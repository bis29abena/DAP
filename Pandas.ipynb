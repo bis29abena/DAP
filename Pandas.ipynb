{
 "cells": [
  {
   "cell_type": "markdown",
   "id": "6ef1112a",
   "metadata": {},
   "source": [
    "# Pandas DataFrames"
   ]
  },
  {
   "cell_type": "markdown",
   "id": "03421cd1",
   "metadata": {},
   "source": [
    "### Pandas Series"
   ]
  },
  {
   "cell_type": "code",
   "execution_count": 1,
   "id": "152ae410",
   "metadata": {},
   "outputs": [],
   "source": [
    "import numpy as np\n",
    "import pandas as pd"
   ]
  },
  {
   "cell_type": "markdown",
   "id": "323904f3",
   "metadata": {},
   "source": [
    "Define a new series by passing a collection of homogeneous dta like ndarray or list, along with the list of associated indexes to pd.Series():"
   ]
  },
  {
   "cell_type": "code",
   "execution_count": 2,
   "id": "807a40c2",
   "metadata": {},
   "outputs": [
    {
     "data": {
      "text/plain": [
       "a    2\n",
       "b    3\n",
       "c    5\n",
       "d    4\n",
       "dtype: int64"
      ]
     },
     "execution_count": 2,
     "metadata": {},
     "output_type": "execute_result"
    }
   ],
   "source": [
    "my_series = pd.Series(data = [2, 3, 5, 4],         # Data                \n",
    "                      index= [\"a\", \"b\", \"c\", \"d\"]) #Indexes\n",
    "\n",
    "my_series"
   ]
  },
  {
   "cell_type": "markdown",
   "id": "dbc82e65",
   "metadata": {},
   "source": [
    "You can also create a series from a dictionary, in which case the dictionary keys act as the labels and the values act as the data"
   ]
  },
  {
   "cell_type": "code",
   "execution_count": 3,
   "id": "276a0a52",
   "metadata": {},
   "outputs": [
    {
     "data": {
      "text/plain": [
       "x    2\n",
       "a    5\n",
       "b    4\n",
       "c    8\n",
       "dtype: int64"
      ]
     },
     "execution_count": 3,
     "metadata": {},
     "output_type": "execute_result"
    }
   ],
   "source": [
    "my_dict = {\"x\":2, \"a\":5, \"b\": 4, \"c\":8}\n",
    "\n",
    "my_series2 = pd.Series(my_dict)\n",
    "\n",
    "my_series2"
   ]
  },
  {
   "cell_type": "markdown",
   "id": "9afbcad1",
   "metadata": {},
   "source": [
    "Similar to a dictionary, you can access items in a series by the labels"
   ]
  },
  {
   "cell_type": "code",
   "execution_count": 4,
   "id": "872636bc",
   "metadata": {},
   "outputs": [
    {
     "data": {
      "text/plain": [
       "2"
      ]
     },
     "execution_count": 4,
     "metadata": {},
     "output_type": "execute_result"
    }
   ],
   "source": [
    "my_series[\"a\"]"
   ]
  },
  {
   "cell_type": "markdown",
   "id": "41baa4ae",
   "metadata": {},
   "source": [
    "Numeric indexing also works"
   ]
  },
  {
   "cell_type": "code",
   "execution_count": 5,
   "id": "8c84a7c5",
   "metadata": {},
   "outputs": [
    {
     "data": {
      "text/plain": [
       "2"
      ]
     },
     "execution_count": 5,
     "metadata": {},
     "output_type": "execute_result"
    }
   ],
   "source": [
    "my_series[0]"
   ]
  },
  {
   "cell_type": "markdown",
   "id": "1c911549",
   "metadata": {},
   "source": [
    "If you take a slice of a series, you get both the values and the labels in the slice"
   ]
  },
  {
   "cell_type": "code",
   "execution_count": 6,
   "id": "f6c1f5a3",
   "metadata": {},
   "outputs": [
    {
     "data": {
      "text/plain": [
       "b    3\n",
       "c    5\n",
       "dtype: int64"
      ]
     },
     "execution_count": 6,
     "metadata": {},
     "output_type": "execute_result"
    }
   ],
   "source": [
    "my_series[1: 3]"
   ]
  },
  {
   "cell_type": "markdown",
   "id": "3e805821",
   "metadata": {},
   "source": [
    "As mentioned earlier, operations performed on two series align by labels"
   ]
  },
  {
   "cell_type": "code",
   "execution_count": 8,
   "id": "54c03179",
   "metadata": {},
   "outputs": [
    {
     "data": {
      "text/plain": [
       "a     4\n",
       "b     6\n",
       "c    10\n",
       "d     8\n",
       "dtype: int64"
      ]
     },
     "execution_count": 8,
     "metadata": {},
     "output_type": "execute_result"
    }
   ],
   "source": [
    "my_series + my_series"
   ]
  },
  {
   "cell_type": "markdown",
   "id": "dec8f474",
   "metadata": {},
   "source": [
    "If you perform an operation with two series that have different labels, the unmatched labels will return a value of NaN(not a number)"
   ]
  },
  {
   "cell_type": "code",
   "execution_count": 9,
   "id": "cabead3e",
   "metadata": {},
   "outputs": [
    {
     "data": {
      "text/plain": [
       "a     7.0\n",
       "b     7.0\n",
       "c    13.0\n",
       "d     NaN\n",
       "x     NaN\n",
       "dtype: float64"
      ]
     },
     "execution_count": 9,
     "metadata": {},
     "output_type": "execute_result"
    }
   ],
   "source": [
    "my_series + my_series2"
   ]
  },
  {
   "cell_type": "markdown",
   "id": "f9532054",
   "metadata": {},
   "source": [
    "Other than labelling, series behave much like numpy's ndarrays, A series is even a valid argument to many of the numpy array functions we covered last time"
   ]
  },
  {
   "cell_type": "code",
   "execution_count": 10,
   "id": "c86a4d1c",
   "metadata": {},
   "outputs": [
    {
     "data": {
      "text/plain": [
       "3.5"
      ]
     },
     "execution_count": 10,
     "metadata": {},
     "output_type": "execute_result"
    }
   ],
   "source": [
    "np.mean(my_series)"
   ]
  },
  {
   "cell_type": "markdown",
   "id": "c1527e14",
   "metadata": {},
   "source": [
    "## DataFrame Creation and Indexing"
   ]
  },
  {
   "cell_type": "code",
   "execution_count": 11,
   "id": "a7b4aa2a",
   "metadata": {},
   "outputs": [
    {
     "data": {
      "text/html": [
       "<div>\n",
       "<style scoped>\n",
       "    .dataframe tbody tr th:only-of-type {\n",
       "        vertical-align: middle;\n",
       "    }\n",
       "\n",
       "    .dataframe tbody tr th {\n",
       "        vertical-align: top;\n",
       "    }\n",
       "\n",
       "    .dataframe thead th {\n",
       "        text-align: right;\n",
       "    }\n",
       "</style>\n",
       "<table border=\"1\" class=\"dataframe\">\n",
       "  <thead>\n",
       "    <tr style=\"text-align: right;\">\n",
       "      <th></th>\n",
       "      <th>name</th>\n",
       "      <th>age</th>\n",
       "      <th>weight</th>\n",
       "      <th>height</th>\n",
       "      <th>siblings</th>\n",
       "      <th>gender</th>\n",
       "    </tr>\n",
       "  </thead>\n",
       "  <tbody>\n",
       "    <tr>\n",
       "      <th>Joe</th>\n",
       "      <td>Joe</td>\n",
       "      <td>10</td>\n",
       "      <td>75</td>\n",
       "      <td>4.5</td>\n",
       "      <td>1</td>\n",
       "      <td>M</td>\n",
       "    </tr>\n",
       "    <tr>\n",
       "      <th>Bob</th>\n",
       "      <td>Bob</td>\n",
       "      <td>15</td>\n",
       "      <td>123</td>\n",
       "      <td>5.0</td>\n",
       "      <td>1</td>\n",
       "      <td>M</td>\n",
       "    </tr>\n",
       "    <tr>\n",
       "      <th>Kwadwo</th>\n",
       "      <td>Kwadwo</td>\n",
       "      <td>20</td>\n",
       "      <td>239</td>\n",
       "      <td>6.1</td>\n",
       "      <td>1</td>\n",
       "      <td>M</td>\n",
       "    </tr>\n",
       "  </tbody>\n",
       "</table>\n",
       "</div>"
      ],
      "text/plain": [
       "          name  age  weight  height  siblings gender\n",
       "Joe        Joe   10      75     4.5         1      M\n",
       "Bob        Bob   15     123     5.0         1      M\n",
       "Kwadwo  Kwadwo   20     239     6.1         1      M"
      ]
     },
     "execution_count": 11,
     "metadata": {},
     "output_type": "execute_result"
    }
   ],
   "source": [
    "# Create a dictionary with some different data types as values\n",
    "\n",
    "my_dict = {\n",
    "    \"name\": [\"Joe\", \"Bob\", \"Kwadwo\"],\n",
    "    \"age\": np.array([10, 15, 20]),\n",
    "    \"weight\": (75, 123, 239),\n",
    "    \"height\": pd.Series([4.5, 5, 6.1],\n",
    "                       index=[\"Joe\", \"Bob\", \"Kwadwo\"]),\n",
    "    \"siblings\": 1,\n",
    "    \"gender\": \"M\"\n",
    "}\n",
    "\n",
    "df = pd.DataFrame(my_dict)\n",
    "\n",
    "df"
   ]
  },
  {
   "cell_type": "code",
   "execution_count": 12,
   "id": "15129133",
   "metadata": {},
   "outputs": [
    {
     "data": {
      "text/html": [
       "<div>\n",
       "<style scoped>\n",
       "    .dataframe tbody tr th:only-of-type {\n",
       "        vertical-align: middle;\n",
       "    }\n",
       "\n",
       "    .dataframe tbody tr th {\n",
       "        vertical-align: top;\n",
       "    }\n",
       "\n",
       "    .dataframe thead th {\n",
       "        text-align: right;\n",
       "    }\n",
       "</style>\n",
       "<table border=\"1\" class=\"dataframe\">\n",
       "  <thead>\n",
       "    <tr style=\"text-align: right;\">\n",
       "      <th></th>\n",
       "      <th>name</th>\n",
       "      <th>age</th>\n",
       "      <th>weight</th>\n",
       "      <th>height</th>\n",
       "      <th>siblings</th>\n",
       "      <th>gender</th>\n",
       "    </tr>\n",
       "  </thead>\n",
       "  <tbody>\n",
       "    <tr>\n",
       "      <th>0</th>\n",
       "      <td>Joe</td>\n",
       "      <td>10</td>\n",
       "      <td>75</td>\n",
       "      <td>4.5</td>\n",
       "      <td>1</td>\n",
       "      <td>M</td>\n",
       "    </tr>\n",
       "    <tr>\n",
       "      <th>1</th>\n",
       "      <td>Bob</td>\n",
       "      <td>15</td>\n",
       "      <td>123</td>\n",
       "      <td>5.0</td>\n",
       "      <td>1</td>\n",
       "      <td>M</td>\n",
       "    </tr>\n",
       "    <tr>\n",
       "      <th>2</th>\n",
       "      <td>Kwadwo</td>\n",
       "      <td>20</td>\n",
       "      <td>239</td>\n",
       "      <td>6.1</td>\n",
       "      <td>1</td>\n",
       "      <td>M</td>\n",
       "    </tr>\n",
       "  </tbody>\n",
       "</table>\n",
       "</div>"
      ],
      "text/plain": [
       "     name  age  weight  height  siblings gender\n",
       "0     Joe   10      75     4.5         1      M\n",
       "1     Bob   15     123     5.0         1      M\n",
       "2  Kwadwo   20     239     6.1         1      M"
      ]
     },
     "execution_count": 12,
     "metadata": {},
     "output_type": "execute_result"
    }
   ],
   "source": [
    "my_dict2 = {\n",
    "    \"name\": [\"Joe\", \"Bob\", \"Kwadwo\"],\n",
    "    \"age\": np.array([10, 15, 20]),\n",
    "    \"weight\": (75, 123, 239),\n",
    "    \"height\": [4.5, 5, 6.1],\n",
    "    \"siblings\": 1,\n",
    "    \"gender\": \"M\"\n",
    "}\n",
    "\n",
    "df2 = pd.DataFrame(my_dict2)\n",
    "\n",
    "df2"
   ]
  },
  {
   "cell_type": "markdown",
   "id": "39179a32",
   "metadata": {},
   "source": [
    "You can provide custom row labels when creating a DataFrame by adding the index argument"
   ]
  },
  {
   "cell_type": "code",
   "execution_count": 13,
   "id": "53e6cca0",
   "metadata": {},
   "outputs": [
    {
     "data": {
      "text/html": [
       "<div>\n",
       "<style scoped>\n",
       "    .dataframe tbody tr th:only-of-type {\n",
       "        vertical-align: middle;\n",
       "    }\n",
       "\n",
       "    .dataframe tbody tr th {\n",
       "        vertical-align: top;\n",
       "    }\n",
       "\n",
       "    .dataframe thead th {\n",
       "        text-align: right;\n",
       "    }\n",
       "</style>\n",
       "<table border=\"1\" class=\"dataframe\">\n",
       "  <thead>\n",
       "    <tr style=\"text-align: right;\">\n",
       "      <th></th>\n",
       "      <th>name</th>\n",
       "      <th>age</th>\n",
       "      <th>weight</th>\n",
       "      <th>height</th>\n",
       "      <th>siblings</th>\n",
       "      <th>gender</th>\n",
       "    </tr>\n",
       "  </thead>\n",
       "  <tbody>\n",
       "    <tr>\n",
       "      <th>Joe</th>\n",
       "      <td>Joe</td>\n",
       "      <td>10</td>\n",
       "      <td>75</td>\n",
       "      <td>4.5</td>\n",
       "      <td>1</td>\n",
       "      <td>M</td>\n",
       "    </tr>\n",
       "    <tr>\n",
       "      <th>Bob</th>\n",
       "      <td>Bob</td>\n",
       "      <td>15</td>\n",
       "      <td>123</td>\n",
       "      <td>5.0</td>\n",
       "      <td>1</td>\n",
       "      <td>M</td>\n",
       "    </tr>\n",
       "    <tr>\n",
       "      <th>Kwadwo</th>\n",
       "      <td>Kwadwo</td>\n",
       "      <td>20</td>\n",
       "      <td>239</td>\n",
       "      <td>6.1</td>\n",
       "      <td>1</td>\n",
       "      <td>M</td>\n",
       "    </tr>\n",
       "  </tbody>\n",
       "</table>\n",
       "</div>"
      ],
      "text/plain": [
       "          name  age  weight  height  siblings gender\n",
       "Joe        Joe   10      75     4.5         1      M\n",
       "Bob        Bob   15     123     5.0         1      M\n",
       "Kwadwo  Kwadwo   20     239     6.1         1      M"
      ]
     },
     "execution_count": 13,
     "metadata": {},
     "output_type": "execute_result"
    }
   ],
   "source": [
    "df2 = pd.DataFrame(my_dict2, index=my_dict2[\"name\"])\n",
    "\n",
    "df2"
   ]
  },
  {
   "cell_type": "markdown",
   "id": "98a3bb74",
   "metadata": {},
   "source": [
    "A Dataframe behaves like a dictionary of Series objects that each have the same length and the indexes. this means we can get, add and delete columns in a Dataframe the same way we would when dealing with a dictionary"
   ]
  },
  {
   "cell_type": "code",
   "execution_count": 15,
   "id": "508d89f9",
   "metadata": {},
   "outputs": [
    {
     "data": {
      "text/plain": [
       "Joe        75\n",
       "Bob       123\n",
       "Kwadwo    239\n",
       "Name: weight, dtype: int64"
      ]
     },
     "execution_count": 15,
     "metadata": {},
     "output_type": "execute_result"
    }
   ],
   "source": [
    "# Get a column by name\n",
    "df2[\"weight\"]"
   ]
  },
  {
   "cell_type": "markdown",
   "id": "6d6f8ef6",
   "metadata": {},
   "source": [
    "Alternatively, you can get a column by label using \"dot\" notation"
   ]
  },
  {
   "cell_type": "code",
   "execution_count": 17,
   "id": "30965feb",
   "metadata": {},
   "outputs": [
    {
     "data": {
      "text/plain": [
       "Joe        75\n",
       "Bob       123\n",
       "Kwadwo    239\n",
       "Name: weight, dtype: int64"
      ]
     },
     "execution_count": 17,
     "metadata": {},
     "output_type": "execute_result"
    }
   ],
   "source": [
    "df2.weight"
   ]
  },
  {
   "cell_type": "code",
   "execution_count": 21,
   "id": "3c6521ad",
   "metadata": {},
   "outputs": [],
   "source": [
    "#  Delete a column\n",
    "\n",
    "del df2[\"weight\"]"
   ]
  },
  {
   "cell_type": "code",
   "execution_count": 22,
   "id": "ed2e7530",
   "metadata": {},
   "outputs": [
    {
     "data": {
      "text/html": [
       "<div>\n",
       "<style scoped>\n",
       "    .dataframe tbody tr th:only-of-type {\n",
       "        vertical-align: middle;\n",
       "    }\n",
       "\n",
       "    .dataframe tbody tr th {\n",
       "        vertical-align: top;\n",
       "    }\n",
       "\n",
       "    .dataframe thead th {\n",
       "        text-align: right;\n",
       "    }\n",
       "</style>\n",
       "<table border=\"1\" class=\"dataframe\">\n",
       "  <thead>\n",
       "    <tr style=\"text-align: right;\">\n",
       "      <th></th>\n",
       "      <th>name</th>\n",
       "      <th>age</th>\n",
       "      <th>height</th>\n",
       "      <th>siblings</th>\n",
       "      <th>gender</th>\n",
       "    </tr>\n",
       "  </thead>\n",
       "  <tbody>\n",
       "    <tr>\n",
       "      <th>Joe</th>\n",
       "      <td>Joe</td>\n",
       "      <td>10</td>\n",
       "      <td>4.5</td>\n",
       "      <td>1</td>\n",
       "      <td>M</td>\n",
       "    </tr>\n",
       "    <tr>\n",
       "      <th>Bob</th>\n",
       "      <td>Bob</td>\n",
       "      <td>15</td>\n",
       "      <td>5.0</td>\n",
       "      <td>1</td>\n",
       "      <td>M</td>\n",
       "    </tr>\n",
       "    <tr>\n",
       "      <th>Kwadwo</th>\n",
       "      <td>Kwadwo</td>\n",
       "      <td>20</td>\n",
       "      <td>6.1</td>\n",
       "      <td>1</td>\n",
       "      <td>M</td>\n",
       "    </tr>\n",
       "  </tbody>\n",
       "</table>\n",
       "</div>"
      ],
      "text/plain": [
       "          name  age  height  siblings gender\n",
       "Joe        Joe   10     4.5         1      M\n",
       "Bob        Bob   15     5.0         1      M\n",
       "Kwadwo  Kwadwo   20     6.1         1      M"
      ]
     },
     "execution_count": 22,
     "metadata": {},
     "output_type": "execute_result"
    }
   ],
   "source": [
    "df2"
   ]
  },
  {
   "cell_type": "code",
   "execution_count": 23,
   "id": "efac19cd",
   "metadata": {},
   "outputs": [],
   "source": [
    "# Add a new column\n",
    "df2[\"IQ\"] = [130, 105, 115]"
   ]
  },
  {
   "cell_type": "code",
   "execution_count": 24,
   "id": "897e1467",
   "metadata": {},
   "outputs": [
    {
     "data": {
      "text/html": [
       "<div>\n",
       "<style scoped>\n",
       "    .dataframe tbody tr th:only-of-type {\n",
       "        vertical-align: middle;\n",
       "    }\n",
       "\n",
       "    .dataframe tbody tr th {\n",
       "        vertical-align: top;\n",
       "    }\n",
       "\n",
       "    .dataframe thead th {\n",
       "        text-align: right;\n",
       "    }\n",
       "</style>\n",
       "<table border=\"1\" class=\"dataframe\">\n",
       "  <thead>\n",
       "    <tr style=\"text-align: right;\">\n",
       "      <th></th>\n",
       "      <th>name</th>\n",
       "      <th>age</th>\n",
       "      <th>height</th>\n",
       "      <th>siblings</th>\n",
       "      <th>gender</th>\n",
       "      <th>IQ</th>\n",
       "    </tr>\n",
       "  </thead>\n",
       "  <tbody>\n",
       "    <tr>\n",
       "      <th>Joe</th>\n",
       "      <td>Joe</td>\n",
       "      <td>10</td>\n",
       "      <td>4.5</td>\n",
       "      <td>1</td>\n",
       "      <td>M</td>\n",
       "      <td>130</td>\n",
       "    </tr>\n",
       "    <tr>\n",
       "      <th>Bob</th>\n",
       "      <td>Bob</td>\n",
       "      <td>15</td>\n",
       "      <td>5.0</td>\n",
       "      <td>1</td>\n",
       "      <td>M</td>\n",
       "      <td>105</td>\n",
       "    </tr>\n",
       "    <tr>\n",
       "      <th>Kwadwo</th>\n",
       "      <td>Kwadwo</td>\n",
       "      <td>20</td>\n",
       "      <td>6.1</td>\n",
       "      <td>1</td>\n",
       "      <td>M</td>\n",
       "      <td>115</td>\n",
       "    </tr>\n",
       "  </tbody>\n",
       "</table>\n",
       "</div>"
      ],
      "text/plain": [
       "          name  age  height  siblings gender   IQ\n",
       "Joe        Joe   10     4.5         1      M  130\n",
       "Bob        Bob   15     5.0         1      M  105\n",
       "Kwadwo  Kwadwo   20     6.1         1      M  115"
      ]
     },
     "execution_count": 24,
     "metadata": {},
     "output_type": "execute_result"
    }
   ],
   "source": [
    "df2"
   ]
  },
  {
   "cell_type": "markdown",
   "id": "2a6c9526",
   "metadata": {},
   "source": [
    "Inserting a single value into a Dataframe causes it to populate across all the rows"
   ]
  },
  {
   "cell_type": "code",
   "execution_count": 25,
   "id": "0cd5b49b",
   "metadata": {},
   "outputs": [],
   "source": [
    "df2[\"Married\"] = False"
   ]
  },
  {
   "cell_type": "code",
   "execution_count": 26,
   "id": "23f42848",
   "metadata": {},
   "outputs": [
    {
     "data": {
      "text/html": [
       "<div>\n",
       "<style scoped>\n",
       "    .dataframe tbody tr th:only-of-type {\n",
       "        vertical-align: middle;\n",
       "    }\n",
       "\n",
       "    .dataframe tbody tr th {\n",
       "        vertical-align: top;\n",
       "    }\n",
       "\n",
       "    .dataframe thead th {\n",
       "        text-align: right;\n",
       "    }\n",
       "</style>\n",
       "<table border=\"1\" class=\"dataframe\">\n",
       "  <thead>\n",
       "    <tr style=\"text-align: right;\">\n",
       "      <th></th>\n",
       "      <th>name</th>\n",
       "      <th>age</th>\n",
       "      <th>height</th>\n",
       "      <th>siblings</th>\n",
       "      <th>gender</th>\n",
       "      <th>IQ</th>\n",
       "      <th>Married</th>\n",
       "    </tr>\n",
       "  </thead>\n",
       "  <tbody>\n",
       "    <tr>\n",
       "      <th>Joe</th>\n",
       "      <td>Joe</td>\n",
       "      <td>10</td>\n",
       "      <td>4.5</td>\n",
       "      <td>1</td>\n",
       "      <td>M</td>\n",
       "      <td>130</td>\n",
       "      <td>False</td>\n",
       "    </tr>\n",
       "    <tr>\n",
       "      <th>Bob</th>\n",
       "      <td>Bob</td>\n",
       "      <td>15</td>\n",
       "      <td>5.0</td>\n",
       "      <td>1</td>\n",
       "      <td>M</td>\n",
       "      <td>105</td>\n",
       "      <td>False</td>\n",
       "    </tr>\n",
       "    <tr>\n",
       "      <th>Kwadwo</th>\n",
       "      <td>Kwadwo</td>\n",
       "      <td>20</td>\n",
       "      <td>6.1</td>\n",
       "      <td>1</td>\n",
       "      <td>M</td>\n",
       "      <td>115</td>\n",
       "      <td>False</td>\n",
       "    </tr>\n",
       "  </tbody>\n",
       "</table>\n",
       "</div>"
      ],
      "text/plain": [
       "          name  age  height  siblings gender   IQ  Married\n",
       "Joe        Joe   10     4.5         1      M  130    False\n",
       "Bob        Bob   15     5.0         1      M  105    False\n",
       "Kwadwo  Kwadwo   20     6.1         1      M  115    False"
      ]
     },
     "execution_count": 26,
     "metadata": {},
     "output_type": "execute_result"
    }
   ],
   "source": [
    "df2"
   ]
  },
  {
   "cell_type": "markdown",
   "id": "1b0ba0cf",
   "metadata": {},
   "source": [
    "When inserting a series into a DataFrame, rows are matched by index,\n",
    "Unmatched indexes will be filled with Nan"
   ]
  },
  {
   "cell_type": "code",
   "execution_count": 27,
   "id": "6bd205d1",
   "metadata": {},
   "outputs": [],
   "source": [
    "df[\"College\"] = pd.Series([\"Harvard\"], index=[\"Kwadwo\"])"
   ]
  },
  {
   "cell_type": "code",
   "execution_count": 28,
   "id": "1575cb29",
   "metadata": {},
   "outputs": [
    {
     "data": {
      "text/html": [
       "<div>\n",
       "<style scoped>\n",
       "    .dataframe tbody tr th:only-of-type {\n",
       "        vertical-align: middle;\n",
       "    }\n",
       "\n",
       "    .dataframe tbody tr th {\n",
       "        vertical-align: top;\n",
       "    }\n",
       "\n",
       "    .dataframe thead th {\n",
       "        text-align: right;\n",
       "    }\n",
       "</style>\n",
       "<table border=\"1\" class=\"dataframe\">\n",
       "  <thead>\n",
       "    <tr style=\"text-align: right;\">\n",
       "      <th></th>\n",
       "      <th>name</th>\n",
       "      <th>age</th>\n",
       "      <th>weight</th>\n",
       "      <th>height</th>\n",
       "      <th>siblings</th>\n",
       "      <th>gender</th>\n",
       "      <th>College</th>\n",
       "    </tr>\n",
       "  </thead>\n",
       "  <tbody>\n",
       "    <tr>\n",
       "      <th>Joe</th>\n",
       "      <td>Joe</td>\n",
       "      <td>10</td>\n",
       "      <td>75</td>\n",
       "      <td>4.5</td>\n",
       "      <td>1</td>\n",
       "      <td>M</td>\n",
       "      <td>NaN</td>\n",
       "    </tr>\n",
       "    <tr>\n",
       "      <th>Bob</th>\n",
       "      <td>Bob</td>\n",
       "      <td>15</td>\n",
       "      <td>123</td>\n",
       "      <td>5.0</td>\n",
       "      <td>1</td>\n",
       "      <td>M</td>\n",
       "      <td>NaN</td>\n",
       "    </tr>\n",
       "    <tr>\n",
       "      <th>Kwadwo</th>\n",
       "      <td>Kwadwo</td>\n",
       "      <td>20</td>\n",
       "      <td>239</td>\n",
       "      <td>6.1</td>\n",
       "      <td>1</td>\n",
       "      <td>M</td>\n",
       "      <td>Harvard</td>\n",
       "    </tr>\n",
       "  </tbody>\n",
       "</table>\n",
       "</div>"
      ],
      "text/plain": [
       "          name  age  weight  height  siblings gender  College\n",
       "Joe        Joe   10      75     4.5         1      M      NaN\n",
       "Bob        Bob   15     123     5.0         1      M      NaN\n",
       "Kwadwo  Kwadwo   20     239     6.1         1      M  Harvard"
      ]
     },
     "execution_count": 28,
     "metadata": {},
     "output_type": "execute_result"
    }
   ],
   "source": [
    "df"
   ]
  },
  {
   "cell_type": "markdown",
   "id": "1d3d77fc",
   "metadata": {},
   "source": [
    "You can select both rows and columns by label with df.loc[row, colomn]:"
   ]
  },
  {
   "cell_type": "code",
   "execution_count": 29,
   "id": "9a0bf984",
   "metadata": {},
   "outputs": [
    {
     "data": {
      "text/plain": [
       "name          Joe\n",
       "age            10\n",
       "height        4.5\n",
       "siblings        1\n",
       "gender          M\n",
       "IQ            130\n",
       "Married     False\n",
       "Name: Joe, dtype: object"
      ]
     },
     "execution_count": 29,
     "metadata": {},
     "output_type": "execute_result"
    }
   ],
   "source": [
    "df2.loc[\"Joe\"]  # select row \"Joe\""
   ]
  },
  {
   "cell_type": "code",
   "execution_count": 30,
   "id": "27a89a5f",
   "metadata": {},
   "outputs": [
    {
     "data": {
      "text/plain": [
       "130"
      ]
     },
     "execution_count": 30,
     "metadata": {},
     "output_type": "execute_result"
    }
   ],
   "source": [
    "df2.loc[\"Joe\", \"IQ\"] # select row Joe and column IQ"
   ]
  },
  {
   "cell_type": "code",
   "execution_count": 35,
   "id": "5ca84bd9",
   "metadata": {},
   "outputs": [
    {
     "data": {
      "text/html": [
       "<div>\n",
       "<style scoped>\n",
       "    .dataframe tbody tr th:only-of-type {\n",
       "        vertical-align: middle;\n",
       "    }\n",
       "\n",
       "    .dataframe tbody tr th {\n",
       "        vertical-align: top;\n",
       "    }\n",
       "\n",
       "    .dataframe thead th {\n",
       "        text-align: right;\n",
       "    }\n",
       "</style>\n",
       "<table border=\"1\" class=\"dataframe\">\n",
       "  <thead>\n",
       "    <tr style=\"text-align: right;\">\n",
       "      <th></th>\n",
       "      <th>siblings</th>\n",
       "      <th>gender</th>\n",
       "      <th>IQ</th>\n",
       "    </tr>\n",
       "  </thead>\n",
       "  <tbody>\n",
       "    <tr>\n",
       "      <th>Joe</th>\n",
       "      <td>1</td>\n",
       "      <td>M</td>\n",
       "      <td>130</td>\n",
       "    </tr>\n",
       "    <tr>\n",
       "      <th>Bob</th>\n",
       "      <td>1</td>\n",
       "      <td>M</td>\n",
       "      <td>105</td>\n",
       "    </tr>\n",
       "  </tbody>\n",
       "</table>\n",
       "</div>"
      ],
      "text/plain": [
       "     siblings gender   IQ\n",
       "Joe         1      M  130\n",
       "Bob         1      M  105"
      ]
     },
     "execution_count": 35,
     "metadata": {},
     "output_type": "execute_result"
    }
   ],
   "source": [
    "df2.loc[\"Joe\": \"Bob\", \"siblings\":\"IQ\"]  # Slice by label"
   ]
  },
  {
   "cell_type": "markdown",
   "id": "2bbf71fa",
   "metadata": {},
   "source": [
    "Select rows or columns by numeric index with df.iloc[row, column]:"
   ]
  },
  {
   "cell_type": "code",
   "execution_count": 36,
   "id": "ef4bb975",
   "metadata": {},
   "outputs": [
    {
     "data": {
      "text/plain": [
       "name          Joe\n",
       "age            10\n",
       "height        4.5\n",
       "siblings        1\n",
       "gender          M\n",
       "IQ            130\n",
       "Married     False\n",
       "Name: Joe, dtype: object"
      ]
     },
     "execution_count": 36,
     "metadata": {},
     "output_type": "execute_result"
    }
   ],
   "source": [
    "df2.iloc[0]       # Get row 0"
   ]
  },
  {
   "cell_type": "code",
   "execution_count": 37,
   "id": "99474e53",
   "metadata": {},
   "outputs": [
    {
     "data": {
      "text/plain": [
       "130"
      ]
     },
     "execution_count": 37,
     "metadata": {},
     "output_type": "execute_result"
    }
   ],
   "source": [
    "df2.iloc[0, 5] # Get row 0, column 5"
   ]
  },
  {
   "cell_type": "code",
   "execution_count": 39,
   "id": "bf18bc3d",
   "metadata": {},
   "outputs": [
    {
     "data": {
      "text/html": [
       "<div>\n",
       "<style scoped>\n",
       "    .dataframe tbody tr th:only-of-type {\n",
       "        vertical-align: middle;\n",
       "    }\n",
       "\n",
       "    .dataframe tbody tr th {\n",
       "        vertical-align: top;\n",
       "    }\n",
       "\n",
       "    .dataframe thead th {\n",
       "        text-align: right;\n",
       "    }\n",
       "</style>\n",
       "<table border=\"1\" class=\"dataframe\">\n",
       "  <thead>\n",
       "    <tr style=\"text-align: right;\">\n",
       "      <th></th>\n",
       "      <th>siblings</th>\n",
       "      <th>gender</th>\n",
       "    </tr>\n",
       "  </thead>\n",
       "  <tbody>\n",
       "    <tr>\n",
       "      <th>Joe</th>\n",
       "      <td>1</td>\n",
       "      <td>M</td>\n",
       "    </tr>\n",
       "    <tr>\n",
       "      <th>Bob</th>\n",
       "      <td>1</td>\n",
       "      <td>M</td>\n",
       "    </tr>\n",
       "  </tbody>\n",
       "</table>\n",
       "</div>"
      ],
      "text/plain": [
       "     siblings gender\n",
       "Joe         1      M\n",
       "Bob         1      M"
      ]
     },
     "execution_count": 39,
     "metadata": {},
     "output_type": "execute_result"
    }
   ],
   "source": [
    "df.iloc[0:2, 4:6]"
   ]
  },
  {
   "cell_type": "markdown",
   "id": "88ada175",
   "metadata": {},
   "source": [
    "You can select a row by passing in a sequence boolean(True/False) values. Rows where the corresponding boolean is True are returned"
   ]
  },
  {
   "cell_type": "code",
   "execution_count": 40,
   "id": "73289752",
   "metadata": {},
   "outputs": [
    {
     "data": {
      "text/html": [
       "<div>\n",
       "<style scoped>\n",
       "    .dataframe tbody tr th:only-of-type {\n",
       "        vertical-align: middle;\n",
       "    }\n",
       "\n",
       "    .dataframe tbody tr th {\n",
       "        vertical-align: top;\n",
       "    }\n",
       "\n",
       "    .dataframe thead th {\n",
       "        text-align: right;\n",
       "    }\n",
       "</style>\n",
       "<table border=\"1\" class=\"dataframe\">\n",
       "  <thead>\n",
       "    <tr style=\"text-align: right;\">\n",
       "      <th></th>\n",
       "      <th>name</th>\n",
       "      <th>age</th>\n",
       "      <th>height</th>\n",
       "      <th>siblings</th>\n",
       "      <th>gender</th>\n",
       "      <th>IQ</th>\n",
       "      <th>Married</th>\n",
       "    </tr>\n",
       "  </thead>\n",
       "  <tbody>\n",
       "    <tr>\n",
       "      <th>Bob</th>\n",
       "      <td>Bob</td>\n",
       "      <td>15</td>\n",
       "      <td>5.0</td>\n",
       "      <td>1</td>\n",
       "      <td>M</td>\n",
       "      <td>105</td>\n",
       "      <td>False</td>\n",
       "    </tr>\n",
       "    <tr>\n",
       "      <th>Kwadwo</th>\n",
       "      <td>Kwadwo</td>\n",
       "      <td>20</td>\n",
       "      <td>6.1</td>\n",
       "      <td>1</td>\n",
       "      <td>M</td>\n",
       "      <td>115</td>\n",
       "      <td>False</td>\n",
       "    </tr>\n",
       "  </tbody>\n",
       "</table>\n",
       "</div>"
      ],
      "text/plain": [
       "          name  age  height  siblings gender   IQ  Married\n",
       "Bob        Bob   15     5.0         1      M  105    False\n",
       "Kwadwo  Kwadwo   20     6.1         1      M  115    False"
      ]
     },
     "execution_count": 40,
     "metadata": {},
     "output_type": "execute_result"
    }
   ],
   "source": [
    "boolean_index = [False, True, True]\n",
    "\n",
    "df2[boolean_index]"
   ]
  },
  {
   "cell_type": "markdown",
   "id": "f1b8bb32",
   "metadata": {},
   "source": [
    "This sort of logical indexing is useful for subsetting data when combined with logical operations.For example, say we wanted to get a subset of our Dataframe with all persons who are over 12 years old. We can do it with boolean indexing"
   ]
  },
  {
   "cell_type": "code",
   "execution_count": 43,
   "id": "96a75596",
   "metadata": {},
   "outputs": [
    {
     "data": {
      "text/html": [
       "<div>\n",
       "<style scoped>\n",
       "    .dataframe tbody tr th:only-of-type {\n",
       "        vertical-align: middle;\n",
       "    }\n",
       "\n",
       "    .dataframe tbody tr th {\n",
       "        vertical-align: top;\n",
       "    }\n",
       "\n",
       "    .dataframe thead th {\n",
       "        text-align: right;\n",
       "    }\n",
       "</style>\n",
       "<table border=\"1\" class=\"dataframe\">\n",
       "  <thead>\n",
       "    <tr style=\"text-align: right;\">\n",
       "      <th></th>\n",
       "      <th>name</th>\n",
       "      <th>age</th>\n",
       "      <th>height</th>\n",
       "      <th>siblings</th>\n",
       "      <th>gender</th>\n",
       "      <th>IQ</th>\n",
       "      <th>Married</th>\n",
       "    </tr>\n",
       "  </thead>\n",
       "  <tbody>\n",
       "    <tr>\n",
       "      <th>Bob</th>\n",
       "      <td>Bob</td>\n",
       "      <td>15</td>\n",
       "      <td>5.0</td>\n",
       "      <td>1</td>\n",
       "      <td>M</td>\n",
       "      <td>105</td>\n",
       "      <td>False</td>\n",
       "    </tr>\n",
       "    <tr>\n",
       "      <th>Kwadwo</th>\n",
       "      <td>Kwadwo</td>\n",
       "      <td>20</td>\n",
       "      <td>6.1</td>\n",
       "      <td>1</td>\n",
       "      <td>M</td>\n",
       "      <td>115</td>\n",
       "      <td>False</td>\n",
       "    </tr>\n",
       "  </tbody>\n",
       "</table>\n",
       "</div>"
      ],
      "text/plain": [
       "          name  age  height  siblings gender   IQ  Married\n",
       "Bob        Bob   15     5.0         1      M  105    False\n",
       "Kwadwo  Kwadwo   20     6.1         1      M  115    False"
      ]
     },
     "execution_count": 43,
     "metadata": {},
     "output_type": "execute_result"
    }
   ],
   "source": [
    "# create a boolean sequence with logical comparisons\n",
    "boolean_index = df2[\"age\"] > 12\n",
    "\n",
    "# Use the index to get the rows where age > 12\n",
    "df2[boolean_index]"
   ]
  },
  {
   "cell_type": "markdown",
   "id": "45a5fafa",
   "metadata": {},
   "source": [
    "You can do this sort of indexing all in one operation without assigning the boolean sequence to a variable"
   ]
  },
  {
   "cell_type": "code",
   "execution_count": 45,
   "id": "f7ef44c0",
   "metadata": {},
   "outputs": [
    {
     "data": {
      "text/html": [
       "<div>\n",
       "<style scoped>\n",
       "    .dataframe tbody tr th:only-of-type {\n",
       "        vertical-align: middle;\n",
       "    }\n",
       "\n",
       "    .dataframe tbody tr th {\n",
       "        vertical-align: top;\n",
       "    }\n",
       "\n",
       "    .dataframe thead th {\n",
       "        text-align: right;\n",
       "    }\n",
       "</style>\n",
       "<table border=\"1\" class=\"dataframe\">\n",
       "  <thead>\n",
       "    <tr style=\"text-align: right;\">\n",
       "      <th></th>\n",
       "      <th>name</th>\n",
       "      <th>age</th>\n",
       "      <th>height</th>\n",
       "      <th>siblings</th>\n",
       "      <th>gender</th>\n",
       "      <th>IQ</th>\n",
       "      <th>Married</th>\n",
       "    </tr>\n",
       "  </thead>\n",
       "  <tbody>\n",
       "    <tr>\n",
       "      <th>Bob</th>\n",
       "      <td>Bob</td>\n",
       "      <td>15</td>\n",
       "      <td>5.0</td>\n",
       "      <td>1</td>\n",
       "      <td>M</td>\n",
       "      <td>105</td>\n",
       "      <td>False</td>\n",
       "    </tr>\n",
       "    <tr>\n",
       "      <th>Kwadwo</th>\n",
       "      <td>Kwadwo</td>\n",
       "      <td>20</td>\n",
       "      <td>6.1</td>\n",
       "      <td>1</td>\n",
       "      <td>M</td>\n",
       "      <td>115</td>\n",
       "      <td>False</td>\n",
       "    </tr>\n",
       "  </tbody>\n",
       "</table>\n",
       "</div>"
      ],
      "text/plain": [
       "          name  age  height  siblings gender   IQ  Married\n",
       "Bob        Bob   15     5.0         1      M  105    False\n",
       "Kwadwo  Kwadwo   20     6.1         1      M  115    False"
      ]
     },
     "execution_count": 45,
     "metadata": {},
     "output_type": "execute_result"
    }
   ],
   "source": [
    "df2[ df2[\"age\"] > 12]"
   ]
  },
  {
   "cell_type": "code",
   "execution_count": null,
   "id": "9867acb8",
   "metadata": {},
   "outputs": [],
   "source": []
  }
 ],
 "metadata": {
  "kernelspec": {
   "display_name": "Python 3 (ipykernel)",
   "language": "python",
   "name": "python3"
  },
  "language_info": {
   "codemirror_mode": {
    "name": "ipython",
    "version": 3
   },
   "file_extension": ".py",
   "mimetype": "text/x-python",
   "name": "python",
   "nbconvert_exporter": "python",
   "pygments_lexer": "ipython3",
   "version": "3.11.5"
  }
 },
 "nbformat": 4,
 "nbformat_minor": 5
}
