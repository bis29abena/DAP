{
 "cells": [
  {
   "cell_type": "code",
   "execution_count": 1,
   "id": "3552764d",
   "metadata": {},
   "outputs": [
    {
     "name": "stdout",
     "output_type": "stream",
     "text": [
      "[0, 1, 2, 3, 4, 5, 6, 7, 8, 9, 10, 11, 12, 13, 14, 15, 16, 17, 18, 19, 20, 21, 22, 23, 24, 25, 26, 27, 28, 29, 30, 31, 32, 33, 34, 35, 36, 37, 38, 39, 40, 41, 42, 43, 44, 45, 46, 47, 48, 49, 50, 51, 52, 53, 54, 55, 56, 57, 58, 59, 60, 61, 62, 63, 64, 65, 66, 67, 68, 69, 70, 71, 72, 73, 74, 75, 76, 77, 78, 79, 80, 81, 82, 83, 84, 85, 86, 87, 88, 89, 90, 91, 92, 93, 94, 95, 96, 97, 98, 99, 100]\n"
     ]
    }
   ],
   "source": [
    "my_list = []\n",
    "    \n",
    "for number in range(0, 101):\n",
    "    my_list.append(number)\n",
    "\n",
    "print(my_list)"
   ]
  },
  {
   "cell_type": "markdown",
   "id": "a5ce4668",
   "metadata": {},
   "source": [
    "Note: range() creates a sequence of numbers from some specified starting number up to but not including an ending number. It also takes an optional argumrnt for the step (counting increment) which defaults to 1.\n",
    "\n",
    "\n",
    "The cide above works, but it is unnecessarily verbose, List Comprension provides a way to do these sorts of constructions efficiently with less code "
   ]
  },
  {
   "cell_type": "markdown",
   "id": "13a608f0",
   "metadata": {},
   "source": [
    "## List Comprehension"
   ]
  },
  {
   "cell_type": "markdown",
   "id": "904b39fa",
   "metadata": {},
   "source": [
    "List Comprehension let you populate lists in one line code by taking the logic you would normally put a for loop and moving it inside the list brackets. We can construct the same list as the above using the following list comprehension:"
   ]
  },
  {
   "cell_type": "code",
   "execution_count": 2,
   "id": "76bafbb3",
   "metadata": {},
   "outputs": [
    {
     "name": "stdout",
     "output_type": "stream",
     "text": [
      "[0, 1, 2, 3, 4, 5, 6, 7, 8, 9, 10, 11, 12, 13, 14, 15, 16, 17, 18, 19, 20, 21, 22, 23, 24, 25, 26, 27, 28, 29, 30, 31, 32, 33, 34, 35, 36, 37, 38, 39, 40, 41, 42, 43, 44, 45, 46, 47, 48, 49, 50, 51, 52, 53, 54, 55, 56, 57, 58, 59, 60, 61, 62, 63, 64, 65, 66, 67, 68, 69, 70, 71, 72, 73, 74, 75, 76, 77, 78, 79, 80, 81, 82, 83, 84, 85, 86, 87, 88, 89, 90, 91, 92, 93, 94, 95, 96, 97, 98, 99, 100]\n"
     ]
    }
   ],
   "source": [
    "my_list2 = [number for number in range(0,101)]\n",
    "\n",
    "print(my_list2)"
   ]
  },
  {
   "cell_type": "markdown",
   "id": "5952753f",
   "metadata": {},
   "source": [
    "In a list comprehension, the value that you want to append to the list come first, in this case \"number\", followed by a for statement that mirrors the one we used in the for loop version of the code. You can optionally include if clauses after the for statement to filter the result based on some logical check. For instance, we could could add an if statement to filter out odd numbers."
   ]
  },
  {
   "cell_type": "code",
   "execution_count": 3,
   "id": "a4ae9302",
   "metadata": {},
   "outputs": [
    {
     "name": "stdout",
     "output_type": "stream",
     "text": [
      "[0, 2, 4, 6, 8, 10, 12, 14, 16, 18, 20, 22, 24, 26, 28, 30, 32, 34, 36, 38, 40, 42, 44, 46, 48, 50, 52, 54, 56, 58, 60, 62, 64, 66, 68, 70, 72, 74, 76, 78, 80, 82, 84, 86, 88, 90, 92, 94, 96, 98, 100]\n"
     ]
    }
   ],
   "source": [
    "my_list3 = [number for number in range(0, 101) if number % 2 == 0]\n",
    "\n",
    "print(my_list3)"
   ]
  },
  {
   "cell_type": "markdown",
   "id": "034b3d9f",
   "metadata": {},
   "source": [
    "In the code above we take all the numbers in the range for which the number modulud 2 is equal to zero, which returns all the even numbers in the range"
   ]
  },
  {
   "cell_type": "markdown",
   "id": "5187387b",
   "metadata": {},
   "source": [
    "It is possible to put more than one for loop in a list comprehension, such as to construct a list from two different iterables. For instance, If we wanted to make a list of each combination of two letters in two different strings we could it with a list comprehension over two strings with two for clauses"
   ]
  },
  {
   "cell_type": "code",
   "execution_count": 4,
   "id": "7fe2fec3",
   "metadata": {},
   "outputs": [
    {
     "name": "stdout",
     "output_type": "stream",
     "text": [
      "['ls', 'lt', 'lu', 'ld', 'ly', 'is', 'it', 'iu', 'id', 'iy', 'fs', 'ft', 'fu', 'fd', 'fy', 'es', 'et', 'eu', 'ed', 'ey']\n"
     ]
    }
   ],
   "source": [
    "combined = [a + b for a in \"life\" for b in \"study\"]\n",
    "\n",
    "print(combined)"
   ]
  },
  {
   "cell_type": "markdown",
   "id": "4a5ec176",
   "metadata": {},
   "source": [
    "You can also nest one list comprehension inside of another:"
   ]
  },
  {
   "cell_type": "code",
   "execution_count": 5,
   "id": "50b22702",
   "metadata": {},
   "outputs": [
    {
     "name": "stdout",
     "output_type": "stream",
     "text": [
      "['s', 't', 'u', 'd', 'y', 's', 't', 'u', 'd', 'y', 's', 't', 'u', 'd', 'y', 's', 't', 'u', 'd', 'y']\n"
     ]
    }
   ],
   "source": [
    "nested = [letter[1] for letter in [a + b for a in \"life\" for b in \"study\"]]\n",
    "\n",
    "print(nested)"
   ]
  },
  {
   "cell_type": "markdown",
   "id": "4dbe08b4",
   "metadata": {},
   "source": [
    "Nptice that while you can nest list comprehensions to achieve a lot in a single line of code, doing so can lead to long, verbose and potentially confusing code. It is often better to avoid the temptation to create convoluted \"one-liners\" when a series of a few shorter, more readable operations will yield the same result"
   ]
  },
  {
   "cell_type": "code",
   "execution_count": 6,
   "id": "8480b759",
   "metadata": {},
   "outputs": [
    {
     "name": "stdout",
     "output_type": "stream",
     "text": [
      "['s', 't', 'u', 'd', 'y', 's', 't', 'u', 'd', 'y', 's', 't', 'u', 'd', 'y', 's', 't', 'u', 'd', 'y']\n"
     ]
    }
   ],
   "source": [
    "combined = [a + b for a in \"life\" for b in \"study\"]\n",
    "non_nested = [letters[1] for letters in combined]\n",
    "\n",
    "print(non_nested)"
   ]
  },
  {
   "cell_type": "markdown",
   "id": "9dcac342",
   "metadata": {},
   "source": [
    "## Dictionay Comprehension"
   ]
  },
  {
   "cell_type": "code",
   "execution_count": 7,
   "id": "69f69ab3",
   "metadata": {},
   "outputs": [
    {
     "name": "stdout",
     "output_type": "stream",
     "text": [
      "{'life': 4, 'you': 3, 'study': 5}\n"
     ]
    }
   ],
   "source": [
    "words = [\"life\", \"you\", \"study\"]\n",
    "\n",
    "word_length_dict = {}\n",
    "\n",
    "for word in words:\n",
    "    word_length_dict[word] = len(word)\n",
    "    \n",
    "print(word_length_dict)"
   ]
  },
  {
   "cell_type": "markdown",
   "id": "a4ae8c3b",
   "metadata": {},
   "source": [
    "We could make the same dictionary using a dictionary comprehension where the key and value come first in the form key:value, followed a for clause that loops over some sequence"
   ]
  },
  {
   "cell_type": "code",
   "execution_count": 8,
   "id": "ada220d9",
   "metadata": {},
   "outputs": [
    {
     "name": "stdout",
     "output_type": "stream",
     "text": [
      "{'life': 4, 'you': 3, 'study': 5}\n"
     ]
    }
   ],
   "source": [
    "words = [\"life\", \"you\", \"study\"]\n",
    "\n",
    "word_length_dict2 = {word : len(word) for word in words}\n",
    "\n",
    "print(word_length_dict2)"
   ]
  },
  {
   "cell_type": "markdown",
   "id": "4da71da2",
   "metadata": {},
   "source": [
    "It is common to create a dictionary from the items in two different ordered sequences, where one sequence containes keys you want use and the other sequence contains the corresponding values. you can pair the items in two sequence into tuples using the built in function zip()"
   ]
  },
  {
   "cell_type": "code",
   "execution_count": 12,
   "id": "c9cbccb3",
   "metadata": {},
   "outputs": [
    {
     "name": "stdout",
     "output_type": "stream",
     "text": [
      "('life', 4)\n",
      "('you', 3)\n",
      "('study', 5)\n"
     ]
    }
   ],
   "source": [
    "words = [\"life\", \"you\", \"study\"]\n",
    "word_lengths = [4, 3, 5]\n",
    "\n",
    "pairs = zip(words, word_lengths)\n",
    "\n",
    "for item in pairs:\n",
    "    print(item)"
   ]
  },
  {
   "cell_type": "markdown",
   "id": "942c402c",
   "metadata": {},
   "source": [
    "Using zip inside a dictionary comprehension lets you extract key:value pairs from two sequences"
   ]
  },
  {
   "cell_type": "code",
   "execution_count": 13,
   "id": "7321489e",
   "metadata": {},
   "outputs": [
    {
     "name": "stdout",
     "output_type": "stream",
     "text": [
      "{'life': 4, 'you': 3, 'study': 5}\n"
     ]
    }
   ],
   "source": [
    "words = [\"life\", \"you\", \"study\"]\n",
    "word_lengths = [4, 3, 5]\n",
    "\n",
    "\n",
    "w_dict3 = {key: value for key, value in zip(words, word_lengths)}\n",
    "\n",
    "print(w_dict3)"
   ]
  },
  {
   "cell_type": "code",
   "execution_count": null,
   "id": "2107a981",
   "metadata": {},
   "outputs": [],
   "source": []
  }
 ],
 "metadata": {
  "kernelspec": {
   "display_name": "Python 3 (ipykernel)",
   "language": "python",
   "name": "python3"
  },
  "language_info": {
   "codemirror_mode": {
    "name": "ipython",
    "version": 3
   },
   "file_extension": ".py",
   "mimetype": "text/x-python",
   "name": "python",
   "nbconvert_exporter": "python",
   "pygments_lexer": "ipython3",
   "version": "3.11.5"
  }
 },
 "nbformat": 4,
 "nbformat_minor": 5
}
