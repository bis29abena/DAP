{
 "cells": [
  {
   "cell_type": "markdown",
   "id": "88370adf",
   "metadata": {},
   "source": [
    "# Numpy Arrays and Basics"
   ]
  },
  {
   "cell_type": "code",
   "execution_count": 1,
   "id": "f5388af7",
   "metadata": {},
   "outputs": [],
   "source": [
    "import numpy as np"
   ]
  },
  {
   "cell_type": "markdown",
   "id": "c91b449b",
   "metadata": {},
   "source": [
    " Create an ndarray by passing a lit to np.array() function:"
   ]
  },
  {
   "cell_type": "code",
   "execution_count": 3,
   "id": "cd803d5b",
   "metadata": {},
   "outputs": [
    {
     "data": {
      "text/plain": [
       "numpy.ndarray"
      ]
     },
     "execution_count": 3,
     "metadata": {},
     "output_type": "execute_result"
    }
   ],
   "source": [
    "my_list = [1, 2, 3, 4]  # Define a list\n",
    "\n",
    "my_array = np.array(my_list)  # Pass the list to np.array()\n",
    "\n",
    "type(my_array)  # Check the Objects type"
   ]
  },
  {
   "cell_type": "markdown",
   "id": "654616e0",
   "metadata": {},
   "source": [
    "To create an array with more than one dimension, pass a nested list to np.array():"
   ]
  },
  {
   "cell_type": "code",
   "execution_count": 4,
   "id": "30bc2213",
   "metadata": {},
   "outputs": [
    {
     "name": "stdout",
     "output_type": "stream",
     "text": [
      "[[1 2 3 4]\n",
      " [5 6 7 8]]\n"
     ]
    }
   ],
   "source": [
    "second_list = [5, 6, 7, 8]\n",
    "\n",
    "two_d_array = np.array([my_list, second_list])\n",
    "\n",
    "print(two_d_array)"
   ]
  },
  {
   "cell_type": "markdown",
   "id": "9308b441",
   "metadata": {},
   "source": [
    "An **ndarrray** is defined by the number of **diimension** it has, the size of each dimension and the type of data it holds, check the number and size of dimensions of and ndarray with the shape attribute"
   ]
  },
  {
   "cell_type": "code",
   "execution_count": 6,
   "id": "9361c769",
   "metadata": {},
   "outputs": [
    {
     "data": {
      "text/plain": [
       "(2, 4)"
      ]
     },
     "execution_count": 6,
     "metadata": {},
     "output_type": "execute_result"
    }
   ],
   "source": [
    "two_d_array.shape"
   ]
  },
  {
   "cell_type": "markdown",
   "id": "4cc41ab8",
   "metadata": {},
   "source": [
    "The output above shows that this ndarray is **2-dimensional**, since there are two values listed, and the dimensions have length 2 and 4. check the total size (total number if items) in an array with the size attribute:"
   ]
  },
  {
   "cell_type": "code",
   "execution_count": 7,
   "id": "a0af0160",
   "metadata": {},
   "outputs": [
    {
     "data": {
      "text/plain": [
       "8"
      ]
     },
     "execution_count": 7,
     "metadata": {},
     "output_type": "execute_result"
    }
   ],
   "source": [
    "two_d_array.size"
   ]
  },
  {
   "cell_type": "markdown",
   "id": "ef03080e",
   "metadata": {},
   "source": [
    "Check the **type** of data in an ndarray with the dtype attribute: "
   ]
  },
  {
   "cell_type": "code",
   "execution_count": 9,
   "id": "878eca9e",
   "metadata": {},
   "outputs": [
    {
     "data": {
      "text/plain": [
       "dtype('int32')"
      ]
     },
     "execution_count": 9,
     "metadata": {},
     "output_type": "execute_result"
    }
   ],
   "source": [
    "two_d_array.dtype"
   ]
  },
  {
   "cell_type": "markdown",
   "id": "6f690e17",
   "metadata": {},
   "source": [
    "Numpy has a variety of special array creation functions. some handy array creation functions include"
   ]
  },
  {
   "cell_type": "code",
   "execution_count": 10,
   "id": "57e359ce",
   "metadata": {},
   "outputs": [
    {
     "data": {
      "text/plain": [
       "array([[1., 0., 0., 0., 0.],\n",
       "       [0., 1., 0., 0., 0.],\n",
       "       [0., 0., 1., 0., 0.],\n",
       "       [0., 0., 0., 1., 0.],\n",
       "       [0., 0., 0., 0., 1.]])"
      ]
     },
     "execution_count": 10,
     "metadata": {},
     "output_type": "execute_result"
    }
   ],
   "source": [
    "# np.identity() to create a square 2d array with 1's across the diagonal\n",
    "\n",
    "np.identity(n = 5)   # size of the array"
   ]
  },
  {
   "cell_type": "code",
   "execution_count": 11,
   "id": "5a3521dd",
   "metadata": {},
   "outputs": [
    {
     "data": {
      "text/plain": [
       "array([[1., 1., 1., 1.],\n",
       "       [1., 1., 1., 1.]])"
      ]
     },
     "execution_count": 11,
     "metadata": {},
     "output_type": "execute_result"
    }
   ],
   "source": [
    "# np.ones() to create an array filled with ones:\n",
    "np.ones(shape=two_d_array.shape)"
   ]
  },
  {
   "cell_type": "code",
   "execution_count": 12,
   "id": "94ae26f9",
   "metadata": {},
   "outputs": [
    {
     "data": {
      "text/plain": [
       "array([[0., 0., 0., 0.],\n",
       "       [0., 0., 0., 0.]])"
      ]
     },
     "execution_count": 12,
     "metadata": {},
     "output_type": "execute_result"
    }
   ],
   "source": [
    "# np.zeros() to create an array filled with zeros:\n",
    "np.zeros(shape=two_d_array.shape)"
   ]
  },
  {
   "cell_type": "markdown",
   "id": "2a825a93",
   "metadata": {},
   "source": [
    "## Array Indexing and Slicing"
   ]
  },
  {
   "cell_type": "code",
   "execution_count": 13,
   "id": "9b1f1c9e",
   "metadata": {},
   "outputs": [
    {
     "data": {
      "text/plain": [
       "4"
      ]
     },
     "execution_count": 13,
     "metadata": {},
     "output_type": "execute_result"
    }
   ],
   "source": [
    "one_d_array = np.array([1, 2, 3, 4, 5, 6])\n",
    "\n",
    "one_d_array[3]  # get the item at index 3"
   ]
  },
  {
   "cell_type": "code",
   "execution_count": 14,
   "id": "215ed9de",
   "metadata": {},
   "outputs": [
    {
     "data": {
      "text/plain": [
       "array([4, 5, 6])"
      ]
     },
     "execution_count": 14,
     "metadata": {},
     "output_type": "execute_result"
    }
   ],
   "source": [
    "one_d_array[3 : ] # get the slice of index 3 to the end"
   ]
  },
  {
   "cell_type": "code",
   "execution_count": 15,
   "id": "eb4e2d1e",
   "metadata": {},
   "outputs": [
    {
     "data": {
      "text/plain": [
       "array([6, 5, 4, 3, 2, 1])"
      ]
     },
     "execution_count": 15,
     "metadata": {},
     "output_type": "execute_result"
    }
   ],
   "source": [
    "one_d_array[::-1] # slice backwards to reverse the array"
   ]
  },
  {
   "cell_type": "markdown",
   "id": "e3bd5806",
   "metadata": {},
   "source": [
    "If an ndarrau=y has more than one dimension, separate indexes for each dimension with a comma"
   ]
  },
  {
   "cell_type": "code",
   "execution_count": 16,
   "id": "3568f55c",
   "metadata": {},
   "outputs": [
    {
     "data": {
      "text/plain": [
       "array([[ 1,  2,  3,  4,  5,  6],\n",
       "       [ 7,  8,  9, 10, 11, 12],\n",
       "       [13, 14, 15, 16, 17, 18]])"
      ]
     },
     "execution_count": 16,
     "metadata": {},
     "output_type": "execute_result"
    }
   ],
   "source": [
    "# create a new 2d array\n",
    "two_d_array = np.array([one_d_array, one_d_array + 6, one_d_array + 12])\n",
    "\n",
    "two_d_array"
   ]
  },
  {
   "cell_type": "code",
   "execution_count": 17,
   "id": "29bf75b1",
   "metadata": {},
   "outputs": [
    {
     "data": {
      "text/plain": [
       "11"
      ]
     },
     "execution_count": 17,
     "metadata": {},
     "output_type": "execute_result"
    }
   ],
   "source": [
    "# Get the element at row index 1, column index 4\n",
    "\n",
    "two_d_array[1, 4]"
   ]
  },
  {
   "cell_type": "code",
   "execution_count": 18,
   "id": "85e152ab",
   "metadata": {},
   "outputs": [
    {
     "data": {
      "text/plain": [
       "array([[11, 12],\n",
       "       [17, 18]])"
      ]
     },
     "execution_count": 18,
     "metadata": {},
     "output_type": "execute_result"
    }
   ],
   "source": [
    "# Slice elements starting at row 2 and column 5\n",
    "\n",
    "two_d_array[1:, 4:]"
   ]
  },
  {
   "cell_type": "markdown",
   "id": "155b55de",
   "metadata": {},
   "source": [
    "## Reshaping Array\n",
    "\n",
    "Numpy has variety of built in functions to help you manipulate arrays quickly without having to use complicated indexing operaions.\n",
    "\n",
    "Reshape an array into a new array with the same databut different structure with <code>np.reshape</code>"
   ]
  },
  {
   "cell_type": "code",
   "execution_count": 22,
   "id": "82675ed5",
   "metadata": {},
   "outputs": [
    {
     "data": {
      "text/plain": [
       "array([[ 1,  2,  3],\n",
       "       [ 4,  5,  6],\n",
       "       [ 7,  8,  9],\n",
       "       [10, 11, 12],\n",
       "       [13, 14, 15],\n",
       "       [16, 17, 18]])"
      ]
     },
     "execution_count": 22,
     "metadata": {},
     "output_type": "execute_result"
    }
   ],
   "source": [
    "np.reshape(two_d_array, newshape=(6,3))"
   ]
  },
  {
   "cell_type": "markdown",
   "id": "fc85ebbe",
   "metadata": {},
   "source": [
    "Unravel a multi-dimensional into 1 dimension with np.ravel():"
   ]
  },
  {
   "cell_type": "code",
   "execution_count": 23,
   "id": "fe20d32c",
   "metadata": {},
   "outputs": [
    {
     "data": {
      "text/plain": [
       "array([ 1,  2,  3,  4,  5,  6,  7,  8,  9, 10, 11, 12, 13, 14, 15, 16, 17,\n",
       "       18])"
      ]
     },
     "execution_count": 23,
     "metadata": {},
     "output_type": "execute_result"
    }
   ],
   "source": [
    "np.ravel(two_d_array, order='C') # Use C-Style unraveling (by rows)"
   ]
  },
  {
   "cell_type": "markdown",
   "id": "a0516ab6",
   "metadata": {},
   "source": [
    "Alternatively, use ndarray.flatten() to faltten a multi-dimensional into 1 and return a copy of the result"
   ]
  },
  {
   "cell_type": "code",
   "execution_count": 24,
   "id": "df036ec3",
   "metadata": {},
   "outputs": [
    {
     "data": {
      "text/plain": [
       "array([ 1,  2,  3,  4,  5,  6,  7,  8,  9, 10, 11, 12, 13, 14, 15, 16, 17,\n",
       "       18])"
      ]
     },
     "execution_count": 24,
     "metadata": {},
     "output_type": "execute_result"
    }
   ],
   "source": [
    "two_d_array.flatten()"
   ]
  },
  {
   "cell_type": "markdown",
   "id": "f7a878c3",
   "metadata": {},
   "source": [
    "Get the transpose of an array with ndarray.T:"
   ]
  },
  {
   "cell_type": "code",
   "execution_count": 25,
   "id": "a731ac60",
   "metadata": {},
   "outputs": [
    {
     "data": {
      "text/plain": [
       "array([[ 1,  7, 13],\n",
       "       [ 2,  8, 14],\n",
       "       [ 3,  9, 15],\n",
       "       [ 4, 10, 16],\n",
       "       [ 5, 11, 17],\n",
       "       [ 6, 12, 18]])"
      ]
     },
     "execution_count": 25,
     "metadata": {},
     "output_type": "execute_result"
    }
   ],
   "source": [
    "two_d_array.T"
   ]
  },
  {
   "cell_type": "code",
   "execution_count": 26,
   "id": "011d47a5",
   "metadata": {},
   "outputs": [
    {
     "data": {
      "text/plain": [
       "array([[ 1,  2,  3,  4,  5,  6, 10, 20, 30],\n",
       "       [ 7,  8,  9, 10, 11, 12, 40, 50, 60],\n",
       "       [13, 14, 15, 16, 17, 18, 70, 80, 90]])"
      ]
     },
     "execution_count": 26,
     "metadata": {},
     "output_type": "execute_result"
    }
   ],
   "source": [
    "array_to_join = np.array([[10, 20, 30], [40, 50, 60,], [70, 80, 90]])\n",
    "\n",
    "np.concatenate((two_d_array, array_to_join), axis=1)"
   ]
  },
  {
   "cell_type": "markdown",
   "id": "0f466952",
   "metadata": {},
   "source": [
    "## Array Math Operations"
   ]
  },
  {
   "cell_type": "markdown",
   "id": "e83945dc",
   "metadata": {},
   "source": [
    "Creating and manipulating arrays is nice, but the true power of numpy arrays is the ability to perform mathematical operations on many values quickly and easily, Like built in Python Objects, you can use math operators like +, -, / and * perform basic math and operations with ndarrays:"
   ]
  },
  {
   "cell_type": "code",
   "execution_count": 28,
   "id": "64987325",
   "metadata": {},
   "outputs": [
    {
     "data": {
      "text/plain": [
       "array([[11, 12, 13, 14, 15, 16],\n",
       "       [17, 18, 19, 20, 21, 22],\n",
       "       [23, 24, 25, 26, 27, 28]])"
      ]
     },
     "execution_count": 28,
     "metadata": {},
     "output_type": "execute_result"
    }
   ],
   "source": [
    "two_d_array + 10     # Add 100 to each element"
   ]
  },
  {
   "cell_type": "code",
   "execution_count": 29,
   "id": "5019f34b",
   "metadata": {},
   "outputs": [
    {
     "data": {
      "text/plain": [
       "array([[-99, -98, -97, -96, -95, -94],\n",
       "       [-93, -92, -91, -90, -89, -88],\n",
       "       [-87, -86, -85, -84, -83, -82]])"
      ]
     },
     "execution_count": 29,
     "metadata": {},
     "output_type": "execute_result"
    }
   ],
   "source": [
    "two_d_array - 100 # Subtract 100 from each element"
   ]
  },
  {
   "cell_type": "code",
   "execution_count": 30,
   "id": "2635f944",
   "metadata": {},
   "outputs": [
    {
     "data": {
      "text/plain": [
       "array([[ 2,  4,  6,  8, 10, 12],\n",
       "       [14, 16, 18, 20, 22, 24],\n",
       "       [26, 28, 30, 32, 34, 36]])"
      ]
     },
     "execution_count": 30,
     "metadata": {},
     "output_type": "execute_result"
    }
   ],
   "source": [
    "two_d_array * 2      # Multiply each element by 2"
   ]
  },
  {
   "cell_type": "code",
   "execution_count": 31,
   "id": "26af6d9e",
   "metadata": {},
   "outputs": [
    {
     "data": {
      "text/plain": [
       "array([[  1,   4,   9,  16,  25,  36],\n",
       "       [ 49,  64,  81, 100, 121, 144],\n",
       "       [169, 196, 225, 256, 289, 324]])"
      ]
     },
     "execution_count": 31,
     "metadata": {},
     "output_type": "execute_result"
    }
   ],
   "source": [
    "two_d_array ** 2     # Square each element by 2"
   ]
  },
  {
   "cell_type": "code",
   "execution_count": 32,
   "id": "479c0a36",
   "metadata": {},
   "outputs": [
    {
     "data": {
      "text/plain": [
       "array([[1, 0, 1, 0, 1, 0],\n",
       "       [1, 0, 1, 0, 1, 0],\n",
       "       [1, 0, 1, 0, 1, 0]], dtype=int32)"
      ]
     },
     "execution_count": 32,
     "metadata": {},
     "output_type": "execute_result"
    }
   ],
   "source": [
    "two_d_array % 2     # Take modulus of each element"
   ]
  },
  {
   "cell_type": "markdown",
   "id": "62c2200a",
   "metadata": {},
   "source": [
    "Beyond operating on each element of an array with a single scalar value, you can also use the basic math operators on two arrays with the same shape. When operating on two arrays, the basic math operator function in an element-wise fashion, returning an array with the same shape as the original"
   ]
  },
  {
   "cell_type": "code",
   "execution_count": 33,
   "id": "b8b55705",
   "metadata": {},
   "outputs": [
    {
     "data": {
      "text/plain": [
       "array([[2, 4],\n",
       "       [6, 8]])"
      ]
     },
     "execution_count": 33,
     "metadata": {},
     "output_type": "execute_result"
    }
   ],
   "source": [
    "small_array1 = np.array([[1,2], [3, 4]])\n",
    "\n",
    "small_array1 + small_array1"
   ]
  },
  {
   "cell_type": "code",
   "execution_count": 34,
   "id": "80615837",
   "metadata": {},
   "outputs": [
    {
     "data": {
      "text/plain": [
       "array([[0, 0],\n",
       "       [0, 0]])"
      ]
     },
     "execution_count": 34,
     "metadata": {},
     "output_type": "execute_result"
    }
   ],
   "source": [
    "small_array1 - small_array1"
   ]
  },
  {
   "cell_type": "code",
   "execution_count": 35,
   "id": "5b9d9f85",
   "metadata": {},
   "outputs": [
    {
     "data": {
      "text/plain": [
       "array([[ 1,  4],\n",
       "       [ 9, 16]])"
      ]
     },
     "execution_count": 35,
     "metadata": {},
     "output_type": "execute_result"
    }
   ],
   "source": [
    "small_array1 * small_array1"
   ]
  },
  {
   "cell_type": "code",
   "execution_count": 37,
   "id": "d9a19bca",
   "metadata": {},
   "outputs": [
    {
     "data": {
      "text/plain": [
       "array([[  1,   4],\n",
       "       [ 27, 256]])"
      ]
     },
     "execution_count": 37,
     "metadata": {},
     "output_type": "execute_result"
    }
   ],
   "source": [
    "small_array1 ** small_array1"
   ]
  },
  {
   "cell_type": "markdown",
   "id": "9304202a",
   "metadata": {},
   "source": [
    "Numpy also offers a variety of **named math functions** for ndarrays. There are too many to cover in detail here, so we'll just look at the selection of some of the most useful ones for *Data Analysis*"
   ]
  },
  {
   "cell_type": "code",
   "execution_count": 38,
   "id": "3f2a7d5d",
   "metadata": {},
   "outputs": [
    {
     "data": {
      "text/plain": [
       "9.5"
      ]
     },
     "execution_count": 38,
     "metadata": {},
     "output_type": "execute_result"
    }
   ],
   "source": [
    "# Get the mean of all the elements in an array with np.mean()\n",
    "np.mean(two_d_array)"
   ]
  },
  {
   "cell_type": "code",
   "execution_count": 39,
   "id": "e89bc6a7",
   "metadata": {},
   "outputs": [
    {
     "data": {
      "text/plain": [
       "array([ 3.5,  9.5, 15.5])"
      ]
     },
     "execution_count": 39,
     "metadata": {},
     "output_type": "execute_result"
    }
   ],
   "source": [
    "# Provide an axis argument to get the mean across a dimension\n",
    "\n",
    "np.mean(two_d_array, axis=1)   # Get means of each row"
   ]
  },
  {
   "cell_type": "code",
   "execution_count": 40,
   "id": "cb33d934",
   "metadata": {},
   "outputs": [
    {
     "data": {
      "text/plain": [
       "5.188127472091127"
      ]
     },
     "execution_count": 40,
     "metadata": {},
     "output_type": "execute_result"
    }
   ],
   "source": [
    "# Get the standard deviation of all the elements in array with sp.std()\n",
    "np.std(two_d_array)"
   ]
  },
  {
   "cell_type": "code",
   "execution_count": 42,
   "id": "66c288c6",
   "metadata": {},
   "outputs": [
    {
     "data": {
      "text/plain": [
       "array([4.89897949, 4.89897949, 4.89897949, 4.89897949, 4.89897949,\n",
       "       4.89897949])"
      ]
     },
     "execution_count": 42,
     "metadata": {},
     "output_type": "execute_result"
    }
   ],
   "source": [
    "# Provide an axis argument to get standard deviation across a dimension\n",
    "np.std(two_d_array, axis=0)  # get the stdev for each column"
   ]
  },
  {
   "cell_type": "code",
   "execution_count": 43,
   "id": "557e5d08",
   "metadata": {},
   "outputs": [
    {
     "data": {
      "text/plain": [
       "array([21, 57, 93])"
      ]
     },
     "execution_count": 43,
     "metadata": {},
     "output_type": "execute_result"
    }
   ],
   "source": [
    "# Sum the elements of an array an axis with np.sum()\n",
    "np.sum(two_d_array, axis=1)"
   ]
  },
  {
   "cell_type": "markdown",
   "id": "4095485f",
   "metadata": {},
   "source": [
    "Take the dot product of two arrays with np.dot(). This function performs an element wise, multiply and then sum for 1-dimensional arrays (vectors) and matrix mutiplication for 2-dimensional arrays "
   ]
  },
  {
   "cell_type": "code",
   "execution_count": 44,
   "id": "24a47077",
   "metadata": {},
   "outputs": [
    {
     "data": {
      "text/plain": [
       "217"
      ]
     },
     "execution_count": 44,
     "metadata": {},
     "output_type": "execute_result"
    }
   ],
   "source": [
    "# Take the vector dot product of row 0 and 1\n",
    "np.dot(two_d_array[0, 0:], # Slice row 0\n",
    "      two_d_array[1, 0:]) # Slice row 1\n"
   ]
  },
  {
   "cell_type": "code",
   "execution_count": 45,
   "id": "64b8ed1c",
   "metadata": {},
   "outputs": [
    {
     "data": {
      "text/plain": [
       "array([[ 7, 10],\n",
       "       [15, 22]])"
      ]
     },
     "execution_count": 45,
     "metadata": {},
     "output_type": "execute_result"
    }
   ],
   "source": [
    "# Do a matrix multiply\n",
    "\n",
    "np.dot(small_array1, small_array1)"
   ]
  },
  {
   "cell_type": "code",
   "execution_count": null,
   "id": "18dcde10",
   "metadata": {},
   "outputs": [],
   "source": []
  }
 ],
 "metadata": {
  "kernelspec": {
   "display_name": "Python 3 (ipykernel)",
   "language": "python",
   "name": "python3"
  },
  "language_info": {
   "codemirror_mode": {
    "name": "ipython",
    "version": 3
   },
   "file_extension": ".py",
   "mimetype": "text/x-python",
   "name": "python",
   "nbconvert_exporter": "python",
   "pygments_lexer": "ipython3",
   "version": "3.11.5"
  }
 },
 "nbformat": 4,
 "nbformat_minor": 5
}
